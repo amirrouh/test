{
  "nbformat": 4,
  "nbformat_minor": 0,
  "metadata": {
    "colab": {
      "name": "np_hw_rabina.ipynb",
      "provenance": [],
      "collapsed_sections": [],
      "authorship_tag": "ABX9TyMIFgZWXiMXmEjEYZhiUGot",
      "include_colab_link": true
    },
    "kernelspec": {
      "name": "python3",
      "display_name": "Python 3"
    },
    "language_info": {
      "name": "python"
    }
  },
  "cells": [
    {
      "cell_type": "markdown",
      "metadata": {
        "id": "view-in-github",
        "colab_type": "text"
      },
      "source": [
        "<a href=\"https://colab.research.google.com/github/amirrouh/test/blob/master/np_hw_rabina.ipynb\" target=\"_parent\"><img src=\"https://colab.research.google.com/assets/colab-badge.svg\" alt=\"Open In Colab\"/></a>"
      ]
    },
    {
      "cell_type": "code",
      "execution_count": null,
      "metadata": {
        "id": "S2_pQjRyQHZg"
      },
      "outputs": [],
      "source": [
        "#question number 1\n",
        "import numpy as np\n",
        "a=[10,12,19,17,-13,18,27,20,-12,-17]       #list assignment\n",
        "a_list=np.array(a)                         #converting list into numpy array\n",
        "comp = 20                                  #assigning comparing value\n",
        "a_list_sorted=[i for i in a_list if abs(i) < comp]   #list with abs value less than 20\n",
        "print(a_list_sorted)"
      ]
    },
    {
      "cell_type": "code",
      "source": [
        "# Question number 2\n",
        "#creating numpy array with dimension 10,2,5 using arange\n",
        "b=np.arange(100)\n",
        "b_divide= np.reshape(b,(10,2,5))\n",
        "print(b_divide)\n"
      ],
      "metadata": {
        "id": "MIigCsH3QIQU"
      },
      "execution_count": null,
      "outputs": []
    },
    {
      "cell_type": "code",
      "source": [
        "#question 3\n",
        "c=np.arange(21)\n",
        "c_modify=[]\n",
        "for i in c:\n",
        "  if i > 8 and i < 16:\n",
        "    i = -1 * i\n",
        "    c_modify.append(i)\n",
        "\n",
        "  else:\n",
        "    c_modify.append(i)\n",
        "\n",
        "\n",
        "print(c_modify)"
      ],
      "metadata": {
        "colab": {
          "base_uri": "https://localhost:8080/"
        },
        "id": "EXxpWq4wQLGa",
        "outputId": "11f22516-154f-4e29-c662-4d6c43315573"
      },
      "execution_count": null,
      "outputs": [
        {
          "output_type": "stream",
          "name": "stdout",
          "text": [
            "[0, 1, 2, 3, 4, 5, 6, 7, 8, -9, -10, -11, -12, -13, -14, -15, 16, 17, 18, 19, 20]\n"
          ]
        }
      ]
    },
    {
      "cell_type": "code",
      "source": [
        "#question number 4\n",
        "d= np.arange(10,22)\n",
        "d_reshape=np.reshape(d,(3,4))\n",
        "print(d_reshape)"
      ],
      "metadata": {
        "id": "-rWjAjPGQP8Q"
      },
      "execution_count": null,
      "outputs": []
    },
    {
      "cell_type": "code",
      "source": [
        "#question 5\n",
        "e= np.zeros((5,5))\n",
        "e[0,0]=1\n",
        "e[1,1]=2\n",
        "e[2,2]=3\n",
        "e[3,3]=4\n",
        "e[4,4]=5\n",
        "\n",
        "print(e)\n"
      ],
      "metadata": {
        "colab": {
          "base_uri": "https://localhost:8080/"
        },
        "id": "k_yus5zVQTIV",
        "outputId": "8579df39-4c75-4e64-c975-9ab9a9d072b6"
      },
      "execution_count": null,
      "outputs": [
        {
          "output_type": "stream",
          "name": "stdout",
          "text": [
            "[[1. 0. 0. 0. 0.]\n",
            " [0. 2. 0. 0. 0.]\n",
            " [0. 0. 3. 0. 0.]\n",
            " [0. 0. 0. 4. 0.]\n",
            " [0. 0. 0. 0. 5.]]\n"
          ]
        }
      ]
    },
    {
      "cell_type": "code",
      "source": [
        "#question 6\n",
        "f_1=np.arange(1,5)\n",
        "f_2=np.arange(5,9)\n",
        "\n",
        "f_1=np.reshape(f_1,(2,2))\n",
        "f_2= np.reshape(f_2,(2,2))\n",
        "\n",
        "f_3= np.dot(f_1,f_2)\n",
        "print(f_3)\n"
      ],
      "metadata": {
        "colab": {
          "base_uri": "https://localhost:8080/"
        },
        "id": "lb91oq7TWbTt",
        "outputId": "2ce5f872-8ea1-417a-cb6d-c8abccc005ae"
      },
      "execution_count": null,
      "outputs": [
        {
          "output_type": "stream",
          "name": "stdout",
          "text": [
            "[[19 22]\n",
            " [43 50]]\n"
          ]
        }
      ]
    },
    {
      "cell_type": "code",
      "source": [
        "#question 7\n",
        "g=np.array([1,2,3,4,5])\n",
        "\n",
        "g[:,np.newaxis]+g\n"
      ],
      "metadata": {
        "colab": {
          "base_uri": "https://localhost:8080/"
        },
        "id": "wSd28RDrfNs4",
        "outputId": "10bbfdcf-a3b4-4496-82e5-523784471193"
      },
      "execution_count": null,
      "outputs": [
        {
          "output_type": "execute_result",
          "data": {
            "text/plain": [
              "array([[ 2,  3,  4,  5,  6],\n",
              "       [ 3,  4,  5,  6,  7],\n",
              "       [ 4,  5,  6,  7,  8],\n",
              "       [ 5,  6,  7,  8,  9],\n",
              "       [ 6,  7,  8,  9, 10]])"
            ]
          },
          "metadata": {},
          "execution_count": 54
        }
      ]
    },
    {
      "cell_type": "code",
      "source": [
        ""
      ],
      "metadata": {
        "id": "pzDDmLbFkkcf"
      },
      "execution_count": null,
      "outputs": []
    }
  ]
}